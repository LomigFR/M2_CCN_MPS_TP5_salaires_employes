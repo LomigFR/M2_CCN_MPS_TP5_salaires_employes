{
 "cells": [
  {
   "cell_type": "markdown",
   "metadata": {},
   "source": [
    "# TP noté - À envoyer par mail à luc.lesoil@irisa.fr avant le 15 février 2020!\n",
    "\n",
    "Dans votre mail, pensez à m'indiquer votre nom et votre prénom pour éviter de vous retrouver avec la note d'un autre!"
   ]
  },
  {
   "cell_type": "markdown",
   "metadata": {},
   "source": [
    "Ce jeu de données est généré à la main. Il contient de (fausses) données sur le parcours professionel de plusieurs (fausses) personnes.\n",
    "\n",
    "Description des variables:\n",
    "- prenom contient le prénom de la personne considérée (un prénom est associé à une personne)\n",
    "- revenus_bruts contient les revenus bruts des personnes\n",
    "- mois contient le mois associé à ces revenus\n",
    "- annee contient l'année associée à ces revenus\n",
    "- cotisation contient vrai si la personne cotise pour sa retraite à ce moment-là\n",
    "\n",
    "Quelques conseils:\n",
    "- Les réponses (sauf la 2a) demandent toujours au moins une ligne de code\n",
    "- Commentez les parties complexes\n",
    "- Avant d'envoyer votre travail, pensez à redémarrer le noyau puis exécuter toutes les cellules pour éviter des étourderies de dernière minute\n",
    "- Du moment que la réponse fonctionne, j'accorde les points\n",
    "- Pour les figures, pensez à mettre un titre et à nommer les axes\n",
    "- Le travail est personnel ;-)"
   ]
  },
  {
   "cell_type": "markdown",
   "metadata": {},
   "source": [
    "### Importez toutes les libraries du notebook dans la prochaine cellule"
   ]
  },
  {
   "cell_type": "code",
   "execution_count": 1,
   "metadata": {},
   "outputs": [],
   "source": [
    "import matplotlib.pyplot as plt\n",
    "import matplotlib.colors as col\n",
    "import numpy as np\n",
    "import pandas as pd\n",
    "import scipy\n",
    "from sklearn.linear_model import LinearRegression\n",
    "import seaborn as sns"
   ]
  },
  {
   "cell_type": "markdown",
   "metadata": {},
   "source": [
    "### 1) Importez le jeu de données 'data.csv', puis affichez les cinq premières lignes"
   ]
  },
  {
   "cell_type": "code",
   "execution_count": 2,
   "metadata": {},
   "outputs": [
    {
     "data": {
      "text/html": [
       "<div>\n",
       "<style scoped>\n",
       "    .dataframe tbody tr th:only-of-type {\n",
       "        vertical-align: middle;\n",
       "    }\n",
       "\n",
       "    .dataframe tbody tr th {\n",
       "        vertical-align: top;\n",
       "    }\n",
       "\n",
       "    .dataframe thead th {\n",
       "        text-align: right;\n",
       "    }\n",
       "</style>\n",
       "<table border=\"1\" class=\"dataframe\">\n",
       "  <thead>\n",
       "    <tr style=\"text-align: right;\">\n",
       "      <th></th>\n",
       "      <th>prenom</th>\n",
       "      <th>mois</th>\n",
       "      <th>annee</th>\n",
       "      <th>revenus_bruts</th>\n",
       "      <th>cotisation</th>\n",
       "    </tr>\n",
       "  </thead>\n",
       "  <tbody>\n",
       "    <tr>\n",
       "      <th>0</th>\n",
       "      <td>Catherine</td>\n",
       "      <td>janvier</td>\n",
       "      <td>1979</td>\n",
       "      <td>1600</td>\n",
       "      <td>True</td>\n",
       "    </tr>\n",
       "    <tr>\n",
       "      <th>1</th>\n",
       "      <td>Catherine</td>\n",
       "      <td>février</td>\n",
       "      <td>1979</td>\n",
       "      <td>1600</td>\n",
       "      <td>True</td>\n",
       "    </tr>\n",
       "    <tr>\n",
       "      <th>2</th>\n",
       "      <td>Catherine</td>\n",
       "      <td>mars</td>\n",
       "      <td>1979</td>\n",
       "      <td>1600</td>\n",
       "      <td>True</td>\n",
       "    </tr>\n",
       "    <tr>\n",
       "      <th>3</th>\n",
       "      <td>Catherine</td>\n",
       "      <td>avril</td>\n",
       "      <td>1979</td>\n",
       "      <td>1600</td>\n",
       "      <td>True</td>\n",
       "    </tr>\n",
       "    <tr>\n",
       "      <th>4</th>\n",
       "      <td>Catherine</td>\n",
       "      <td>mai</td>\n",
       "      <td>1979</td>\n",
       "      <td>1600</td>\n",
       "      <td>True</td>\n",
       "    </tr>\n",
       "  </tbody>\n",
       "</table>\n",
       "</div>"
      ],
      "text/plain": [
       "      prenom     mois  annee  revenus_bruts  cotisation\n",
       "0  Catherine  janvier   1979           1600        True\n",
       "1  Catherine  février   1979           1600        True\n",
       "2  Catherine     mars   1979           1600        True\n",
       "3  Catherine    avril   1979           1600        True\n",
       "4  Catherine      mai   1979           1600        True"
      ]
     },
     "execution_count": 2,
     "metadata": {},
     "output_type": "execute_result"
    }
   ],
   "source": [
    "# Import du jeu de données data.csv avec la 1ère ligne contenant le nom des variables et la virgule comme délimiteur.\n",
    "data = pd.read_table(filepath_or_buffer = \"./data.csv\",\n",
    "               header = 0,\n",
    "               delimiter =',')\n",
    "# Affichage des 5 premières lignes du dataset :\n",
    "data.head()"
   ]
  },
  {
   "cell_type": "markdown",
   "metadata": {},
   "source": [
    "### 2) Description des données\n",
    "\n",
    "#### 2) a-]  La variable revenus_bruts est-elle qualitative ou quantitative?"
   ]
  },
  {
   "cell_type": "code",
   "execution_count": 3,
   "metadata": {},
   "outputs": [],
   "source": [
    "# Les revenus bruts sont traduits à travers une variable de type \"entier\" avec l'idée de quantifier ces revenus.\n",
    "# On parle donc bien ici, d'une donnée quantitative."
   ]
  },
  {
   "cell_type": "markdown",
   "metadata": {},
   "source": [
    "#### 2) b-]  Quel est le type de la variable cotisation? Affichez le en console"
   ]
  },
  {
   "cell_type": "code",
   "execution_count": 4,
   "metadata": {},
   "outputs": [
    {
     "name": "stdout",
     "output_type": "stream",
     "text": [
      "La variable cotisation est de type :  bool \n",
      "\n",
      "Le dataframe contient les types suivants :\n",
      "\n",
      " prenom           object\n",
      "mois             object\n",
      "annee             int64\n",
      "revenus_bruts     int64\n",
      "cotisation         bool\n",
      "dtype: object\n"
     ]
    }
   ],
   "source": [
    "# Type de la variable \"cotisation\" :\n",
    "print(\"La variable cotisation est de type : \", data['cotisation'].dtype, \"\\n\")\n",
    "# Alternative :\n",
    "print(\"Le dataframe contient les types suivants :\\n\\n\",data.dtypes)"
   ]
  },
  {
   "cell_type": "markdown",
   "metadata": {},
   "source": [
    "#### 2) c-]  Affichez les dimensions du dataframe"
   ]
  },
  {
   "cell_type": "code",
   "execution_count": 5,
   "metadata": {},
   "outputs": [
    {
     "name": "stdout",
     "output_type": "stream",
     "text": [
      "Le dataframe a pour dimension :  (1968, 5)\n"
     ]
    }
   ],
   "source": [
    "# Dimension du dataframe au format (nombre_lignes, nombre_colonnes)\n",
    "print(\"Le dataframe a pour dimension : \", data.shape)"
   ]
  },
  {
   "cell_type": "markdown",
   "metadata": {},
   "source": [
    "#### 2) d-]  Combien de prénoms différents contient le dataset?"
   ]
  },
  {
   "cell_type": "code",
   "execution_count": 6,
   "metadata": {},
   "outputs": [
    {
     "name": "stdout",
     "output_type": "stream",
     "text": [
      "(4, 3)\n"
     ]
    }
   ],
   "source": [
    "# Nombre de prénoms différents dans le dataset :\n",
    "# Le mean n'apporte pas grand chose en l'état. L'important étant de pouvoir récupérer au final les dimensions du\n",
    "# dataframe et donc son nombre de lignes différentes, à savoir 4 ici.\n",
    "prenoms = data.groupby(['prenom']).mean().shape\n",
    "print(prenoms)"
   ]
  },
  {
   "cell_type": "markdown",
   "metadata": {},
   "source": [
    "### 3) Extraction des données et statistiques descriptives"
   ]
  },
  {
   "cell_type": "markdown",
   "metadata": {},
   "source": [
    "#### 3) a-]  Quelle période couvre le dataset?"
   ]
  },
  {
   "cell_type": "code",
   "execution_count": 7,
   "metadata": {},
   "outputs": [
    {
     "name": "stdout",
     "output_type": "stream",
     "text": [
      "La période des mesures concernant Patrick, débute en 1979 et se termine en 2019.\n"
     ]
    }
   ],
   "source": [
    "# De manière simpliste ici, la recherche consiste à extraire l'année de valeur la plus faible et \n",
    "# l'année de valeur la plus élevée pour une personne en particulier, en supposant que les autres personnes ont\n",
    "# des données sur la même période.\n",
    "periode_patrick = data[data.prenom == \"Patrick\"]\n",
    "# print(periode_patrick)\n",
    "min_periode_patrick = periode_patrick[\"annee\"].min()\n",
    "max_periode_patrick = periode_patrick[\"annee\"].max()\n",
    "print(f\"La période des mesures concernant Patrick, débute en {min_periode_patrick} et se termine en {max_periode_patrick}.\")"
   ]
  },
  {
   "cell_type": "markdown",
   "metadata": {},
   "source": [
    "#### 3) b-]  Quelle est la moyenne des revenus bruts?"
   ]
  },
  {
   "cell_type": "code",
   "execution_count": 8,
   "metadata": {
    "scrolled": true
   },
   "outputs": [
    {
     "name": "stdout",
     "output_type": "stream",
     "text": [
      "La moyenne des revenus bruts est de 2162.74 euros\n"
     ]
    }
   ],
   "source": [
    "# Moyenne des revenus bruts toutes personnes confondues, avec arrondi au centième :\n",
    "moyenne_revenus_bruts = data[\"revenus_bruts\"].mean()\n",
    "print(f\"La moyenne des revenus bruts est de {np.round(moyenne_revenus_bruts, 2)} euros\")"
   ]
  },
  {
   "cell_type": "markdown",
   "metadata": {},
   "source": [
    "#### 3) c-]  Quels ont été les revenus bruts de Patrick en janvier 1979?"
   ]
  },
  {
   "cell_type": "code",
   "execution_count": 9,
   "metadata": {},
   "outputs": [
    {
     "name": "stdout",
     "output_type": "stream",
     "text": [
      "Les revenus bruts de Patrick en janvier 1979 s'élèvent à 1700 euros.\n"
     ]
    }
   ],
   "source": [
    "#infos_patrick_janvier_1979 = data.query('prenom==\"Patrick\" & mois==\"janvier\" & annee==1979')\n",
    "revenus_bruts_patrick_janvier_1979 = data.query('prenom==\"Patrick\" & mois==\"janvier\" & annee==1979')[\"revenus_bruts\"].values[0]\n",
    "print(f\"Les revenus bruts de Patrick en janvier 1979 s'élèvent à {revenus_bruts_patrick_janvier_1979} euros.\")"
   ]
  },
  {
   "cell_type": "markdown",
   "metadata": {},
   "source": [
    "#### 3) d-]  Quel montant brut a touché Catherine sur toute l'année 1983?"
   ]
  },
  {
   "cell_type": "code",
   "execution_count": 10,
   "metadata": {},
   "outputs": [
    {
     "name": "stdout",
     "output_type": "stream",
     "text": [
      "Sur l'année 1983, Catherine a gagné 19392 euros.\n"
     ]
    }
   ],
   "source": [
    "revenu_brut_total_catherine_1983 = data.query('prenom==\"Catherine\" & annee==1983')[\"revenus_bruts\"].sum()\n",
    "print(f\"Sur l'année 1983, Catherine a gagné {revenu_brut_total_catherine_1983} euros.\")"
   ]
  },
  {
   "cell_type": "markdown",
   "metadata": {},
   "source": [
    "### 4) Transformation des données"
   ]
  },
  {
   "cell_type": "markdown",
   "metadata": {},
   "source": [
    "#### 4) a-] Créez un dataset contenant les revenus bruts annuels moyens de Patrick. "
   ]
  },
  {
   "cell_type": "code",
   "execution_count": 113,
   "metadata": {
    "scrolled": true
   },
   "outputs": [
    {
     "name": "stdout",
     "output_type": "stream",
     "text": [
      "Les revenus bruts moyens de Patrick sont :\n",
      " annee\n",
      "1979    1700\n",
      "1980    1734\n",
      "1981    1768\n",
      "1982    1804\n",
      "1983    1804\n",
      "1984    1840\n",
      "1985    1840\n",
      "1986    1858\n",
      "1987    1914\n",
      "1988    1971\n",
      "1989    2011\n",
      "1990    2051\n",
      "1991    2092\n",
      "1992    2113\n",
      "1993    2134\n",
      "1994    2198\n",
      "1995    2220\n",
      "1996    2242\n",
      "1997    2242\n",
      "1998    2242\n",
      "1999    2265\n",
      "2000    2310\n",
      "2001    2356\n",
      "2002    2403\n",
      "2003    2451\n",
      "2004    2500\n",
      "2005    2575\n",
      "2006    2653\n",
      "2007    2706\n",
      "2008    2706\n",
      "2009    2733\n",
      "2010    2760\n",
      "2011    2760\n",
      "2012    2788\n",
      "2013    2788\n",
      "2014    2871\n",
      "2015    2958\n",
      "2016    2987\n",
      "2017    2987\n",
      "2018    3017\n",
      "2019    3047\n",
      "Name: revenus_bruts, dtype: int64\n"
     ]
    }
   ],
   "source": [
    "revenus_bruts_moyens_patrick = data\\\n",
    "    .query('prenom==\"Patrick\"')\\\n",
    "    .groupby(['annee'])['revenus_bruts']\\\n",
    "    .mean()\n",
    "print(\"Les revenus bruts moyens de Patrick sont :\\n\", revenus_bruts_moyens_patrick)"
   ]
  },
  {
   "cell_type": "markdown",
   "metadata": {},
   "source": [
    "#### 4) b-] Créez une variable revenus_nets à l'aide de la variable revenus_bruts. \n",
    "\n",
    "Pour grossièrement passer d'un salaire brut à un salaire net, il faut retrancher 23% du salaire brut pour un employé du privé et 15% pour un employé de la fonction publique.\n",
    "\n",
    "Patrick est employé de la fonction publique, les autres sont employés dans le privé."
   ]
  },
  {
   "cell_type": "code",
   "execution_count": 109,
   "metadata": {
    "scrolled": true
   },
   "outputs": [
    {
     "name": "stdout",
     "output_type": "stream",
     "text": [
      "         prenom       mois  annee  revenus_bruts  cotisation  revenus_nets  \\\n",
      "0     Catherine    janvier   1979           1600        True       1232.00   \n",
      "1     Catherine    février   1979           1600        True       1232.00   \n",
      "2     Catherine       mars   1979           1600        True       1232.00   \n",
      "3     Catherine      avril   1979           1600        True       1232.00   \n",
      "4     Catherine        mai   1979           1600        True       1232.00   \n",
      "...         ...        ...    ...            ...         ...           ...   \n",
      "1963    Patrick       août   2019           3047        True       2589.95   \n",
      "1964    Patrick  septembre   2019           3047        True       2589.95   \n",
      "1965    Patrick    octobre   2019           3047        True       2589.95   \n",
      "1966    Patrick   novembre   2019           3047        True       2589.95   \n",
      "1967    Patrick   décembre   2019           3047        True       2589.95   \n",
      "\n",
      "     date_complete  \n",
      "0          01/1979  \n",
      "1          02/1979  \n",
      "2          03/1979  \n",
      "3          04/1979  \n",
      "4          05/1979  \n",
      "...            ...  \n",
      "1963       08/2019  \n",
      "1964       09/2019  \n",
      "1965       10/2019  \n",
      "1966       11/2019  \n",
      "1967       12/2019  \n",
      "\n",
      "[1968 rows x 7 columns]\n"
     ]
    }
   ],
   "source": [
    "# Définition d'une fonction qui calcule les revenus nets (arrondis au centième) à partir des revenus bruts\n",
    "# en fonction de l'employeur :\n",
    "def calcul_revenus_nets(liste):\n",
    "    mask = liste.prenom==\"Patrick\"\n",
    "    v1 = np.round(liste[\"revenus_bruts\"]*0.85, 2)\n",
    "    v2 = np.round(liste[\"revenus_bruts\"]*0.77, 2)\n",
    "    liste['revenus_nets'] = np.where(mask, v1, v2)\n",
    "    return liste\n",
    "# Affichage du dataframe enrichi des salaires nets :\n",
    "print(calcul_revenus_nets(data))"
   ]
  },
  {
   "cell_type": "markdown",
   "metadata": {},
   "source": [
    "#### 4) c-] Créez une variable contenant la date au format 'MM/YYYY', où MM est un couple de chiffres représentant le mois et YYYY l'année associés au salaire."
   ]
  },
  {
   "cell_type": "code",
   "execution_count": 110,
   "metadata": {},
   "outputs": [
    {
     "name": "stdout",
     "output_type": "stream",
     "text": [
      "         prenom       mois  annee  revenus_bruts  cotisation  revenus_nets  \\\n",
      "0     Catherine    janvier   1979           1600        True       1232.00   \n",
      "1     Catherine    février   1979           1600        True       1232.00   \n",
      "2     Catherine       mars   1979           1600        True       1232.00   \n",
      "3     Catherine      avril   1979           1600        True       1232.00   \n",
      "4     Catherine        mai   1979           1600        True       1232.00   \n",
      "...         ...        ...    ...            ...         ...           ...   \n",
      "1963    Patrick       août   2019           3047        True       2589.95   \n",
      "1964    Patrick  septembre   2019           3047        True       2589.95   \n",
      "1965    Patrick    octobre   2019           3047        True       2589.95   \n",
      "1966    Patrick   novembre   2019           3047        True       2589.95   \n",
      "1967    Patrick   décembre   2019           3047        True       2589.95   \n",
      "\n",
      "     date_complete  \n",
      "0          01/1979  \n",
      "1          02/1979  \n",
      "2          03/1979  \n",
      "3          04/1979  \n",
      "4          05/1979  \n",
      "...            ...  \n",
      "1963       08/2019  \n",
      "1964       09/2019  \n",
      "1965       10/2019  \n",
      "1966       11/2019  \n",
      "1967       12/2019  \n",
      "\n",
      "[1968 rows x 7 columns]\n"
     ]
    }
   ],
   "source": [
    "# Définition d'une fonction qui ajoute une colonne avec la date format MM/YYYY, à une liste passée en paramètre :\n",
    "def ajout_date_complete(liste):\n",
    "    dict_mois = {'janvier': '01', 'février': '02', 'mars': '03', 'avril': '04', 'mai': '05', 'juin': '06', 'juillet': '07', 'août': '08', 'septembre': '09', 'octobre': '10', 'novembre': '11', 'décembre': '12'}\n",
    "    liste['mois_en_chiffres'] = liste['mois'].map(lambda x : dict_mois[x])\n",
    "    liste['date_complete'] = liste['mois_en_chiffres'] + \"/\"+ liste[\"annee\"].map(str)\n",
    "    liste.drop(['mois_en_chiffres'], axis='columns', inplace=True)\n",
    "    return liste\n",
    "# Affichage du dataframe enrichi des dates au format XX/YYYY :\n",
    "print(ajout_date_complete(data))"
   ]
  },
  {
   "cell_type": "markdown",
   "metadata": {},
   "source": [
    "### 5) Visualisation graphique"
   ]
  },
  {
   "cell_type": "markdown",
   "metadata": {},
   "source": [
    "#### 5) a-] Affichez un nuage de points représentant l'évolution du revenu net des différentes personnes du dataset au fil du temps.\n",
    "\n",
    "Si possible:\n",
    "- Affichez seulement les dates de janvier en abcisses, tous les cinq ans\n",
    "- Ajoutez une légende"
   ]
  },
  {
   "cell_type": "code",
   "execution_count": 111,
   "metadata": {},
   "outputs": [
    {
     "name": "stdout",
     "output_type": "stream",
     "text": [
      "prenom     revenus_nets\n",
      "Catherine  616.00           800\n",
      "           848.54          1102\n",
      "           1232.00         1600\n",
      "           1244.32         1616\n",
      "           1268.96         1648\n",
      "                           ... \n",
      "Patrick    2440.35         2871\n",
      "           2514.30         2958\n",
      "           2538.95         2987\n",
      "           2564.45         3017\n",
      "           2589.95         3047\n",
      "Name: revenus_bruts, Length: 99, dtype: int64\n"
     ]
    }
   ],
   "source": [
    "temp = data.groupby(['prenom', 'revenus_nets'])['revenus_bruts'].mean()\n",
    "print(temp)"
   ]
  },
  {
   "cell_type": "code",
   "execution_count": 18,
   "metadata": {},
   "outputs": [
    {
     "data": {
      "text/plain": [
       "'#\\xa0personne = data.groupby([\\'prenom\\'])[\\'prenom\\'] # on fait la moyenne par carburant et par mois\\n# personne = np.array(data.index.levels[0]) # le tableau des prénoms des employés\\n#\\xa0print(personne)\\n# date = np.array(data.index.levels[1])[1:11] # les mois\\n\\n#\\xa0indiceMois = range(1,len(mois)+1)\\nfor i in range(len(nomCarburant)):\\n    tab = np.array(res.iloc[i])\\n    plt.scatter(indiceMois, tab)\\n    plt.plot(indiceMois, tab)\\nplt.legend(res.index)\\nplt.xticks(indiceMois)\\nplt.ylabel(\"Prix moyen (en euros)\")\\nplt.xlabel(\"Mois\")\\nplt.title(\"Évolution des prix du carburant en France au cours de l\\'année 2018\")\\nplt.show()'"
      ]
     },
     "execution_count": 18,
     "metadata": {},
     "output_type": "execute_result"
    }
   ],
   "source": [
    "'''# personne = data.groupby(['prenom'])['prenom'] # on fait la moyenne par carburant et par mois\n",
    "# personne = np.array(data.index.levels[0]) # le tableau des prénoms des employés\n",
    "# print(personne)\n",
    "# date = np.array(data.index.levels[1])[1:11] # les mois\n",
    "\n",
    "# indiceMois = range(1,len(mois)+1)\n",
    "for i in range(len(nomCarburant)):\n",
    "    tab = np.array(res.iloc[i])\n",
    "    plt.scatter(indiceMois, tab)\n",
    "    plt.plot(indiceMois, tab)\n",
    "plt.legend(res.index)\n",
    "plt.xticks(indiceMois)\n",
    "plt.ylabel(\"Prix moyen (en euros)\")\n",
    "plt.xlabel(\"Mois\")\n",
    "plt.title(\"Évolution des prix du carburant en France au cours de l'année 2018\")\n",
    "plt.show()'''"
   ]
  },
  {
   "cell_type": "code",
   "execution_count": 19,
   "metadata": {},
   "outputs": [],
   "source": [
    "# plt.figure(figsize=(8,8))"
   ]
  },
  {
   "cell_type": "markdown",
   "metadata": {},
   "source": [
    "#### 5) b-] Affichez un boxplot comparant les distributions de salaires nets des différentes personnes du dataset. Comparez les variations de salaires (écart-type) par personne. Quelle personne a les revenus les plus fluctuants d'après le graphique? Quelle personne a les revenus les plus fluctuants en écart-type? Comment expliquez-vous cette différence?"
   ]
  },
  {
   "cell_type": "code",
   "execution_count": null,
   "metadata": {},
   "outputs": [],
   "source": []
  },
  {
   "cell_type": "markdown",
   "metadata": {},
   "source": [
    "Il faut filtrer les valeurs aberrantes pour pouvoir comparer les deux distributions."
   ]
  },
  {
   "cell_type": "markdown",
   "metadata": {},
   "source": [
    "### 6) Méthodes statistiques"
   ]
  },
  {
   "cell_type": "markdown",
   "metadata": {},
   "source": [
    "\n",
    "Pour cette question, utilisez les données de la question 4a!\n",
    "\n",
    "#### 6) a-] Modéliser l'évolution du salaire de Patrick au cours du temps à l'aide d'une régression. "
   ]
  },
  {
   "cell_type": "code",
   "execution_count": 114,
   "metadata": {},
   "outputs": [
    {
     "name": "stdout",
     "output_type": "stream",
     "text": [
      "Le coefficient directeur de la droite de régression vaut 34.69651567944251\n",
      "La constante de régression vaut -67007.13972125435\n"
     ]
    },
    {
     "data": {
      "image/png": "[encoded data removed]",
      "text/plain": [
       "<Figure size 720x504 with 1 Axes>"
      ]
     },
     "metadata": {
      "needs_background": "light"
     },
     "output_type": "display_data"
    }
   ],
   "source": [
    "# Préparation de la droite de régression :\n",
    "t = np.array(revenus_bruts_moyens_patrick).reshape(-1,1)\n",
    "reg = LinearRegression()\n",
    "reg.fit(np.array(annee).reshape(-1,1), t)\n",
    "droite_reg = np.array(reg.coef_*annee+reg.intercept_).reshape(-1,1)\n",
    "print(f\"Le coefficient directeur de la droite de régression vaut {reg.coef_[0][0]}\")\n",
    "print(f\"La constante de régression vaut {reg.intercept_[0]}\")\n",
    "\n",
    "# Préparation et affichage du graphique :\n",
    "annee = np.arange(1979, 2020, 1)\n",
    "plt.figure(figsize=(10,7))\n",
    "plt.scatter(annee, revenus_bruts_moyens_patrick, label=\"Revenus bruts moyens en euros\")\n",
    "plt.title('Évolution des revenus bruts moyens de Patrick entre 1979 et 2019')\n",
    "plt.xlabel('Temps (en années)')\n",
    "plt.ylabel(\"Revenus bruts moyens (en euros)\")\n",
    "plt.plot(annee, droite_reg, c=\"red\", label = 'Droite de régression')\n",
    "plt.legend()\n",
    "plt.show()"
   ]
  },
  {
   "cell_type": "markdown",
   "metadata": {},
   "source": [
    "#### 6) b-] Pouvez-vous prédire ce que gagnera Patrick (en brut) s'il est toujours dans la fonction publique dans 10 ans? "
   ]
  },
  {
   "cell_type": "code",
   "execution_count": 83,
   "metadata": {},
   "outputs": [
    {
     "name": "stdout",
     "output_type": "stream",
     "text": [
      "En 2030, Patrick aura (potentiellement) chaque mois, un revenu brut moyen de 3426.79 euros.\n"
     ]
    }
   ],
   "source": [
    "# Prévisions de revenus bruts moyens (arrondis au centième) de Patrick pour l'année 2030 : \n",
    "revenus_bruts_moyens_patrick_2030 = reg.coef_*2030+reg.intercept_\n",
    "print(f\"En 2030, Patrick aura (potentiellement) chaque mois, un revenu brut moyen de {np.round(revenus_bruts_moyens_patrick_2030, 2)[0][0]} euros.\")"
   ]
  },
  {
   "cell_type": "markdown",
   "metadata": {},
   "source": [
    "#### 6) c-] Quelle est la valeur de son augmentation annuelle? "
   ]
  },
  {
   "cell_type": "code",
   "execution_count": 82,
   "metadata": {},
   "outputs": [],
   "source": [
    "# La droite de régression affichée dans la réponse de la question 6a se lit comme une variation du revenu brut\n",
    "# moyen de Patrick.\n",
    "# Le coefficient directeur de cette droite permet donc d'évaluer l'augmentation de revenu brut moyen de Patrick\n",
    "# chaque année. Ainsi, Patrick a gagné, en moyenne chaque année 416.40 euros bruts en plus (34.70 euros * 12 mois)."
   ]
  },
  {
   "cell_type": "markdown",
   "metadata": {},
   "source": [
    "#### 6) d-] Affichez le R² associé à la régression; le modèle vous parait-il correct? Affichez la droite de régression pour vérifier!"
   ]
  },
  {
   "cell_type": "code",
   "execution_count": 169,
   "metadata": {},
   "outputs": [
    {
     "name": "stdout",
     "output_type": "stream",
     "text": [
      "Les années :\n",
      "\n",
      " Int64Index([1979, 1980, 1981, 1982, 1983, 1984, 1985, 1986, 1987, 1988, 1989,\n",
      "            1990, 1991, 1992, 1993, 1994, 1995, 1996, 1997, 1998, 1999, 2000,\n",
      "            2001, 2002, 2003, 2004, 2005, 2006, 2007, 2008, 2009, 2010, 2011,\n",
      "            2012, 2013, 2014, 2015, 2016, 2017, 2018, 2019],\n",
      "           dtype='int64', name='annee')\n",
      "       0\n",
      "0   1700\n",
      "1   1734\n",
      "2   1768\n",
      "3   1804\n",
      "4   1804\n",
      "5   1840\n",
      "6   1840\n",
      "7   1858\n",
      "8   1914\n",
      "9   1971\n",
      "10  2011\n",
      "11  2051\n",
      "12  2092\n",
      "13  2113\n",
      "14  2134\n",
      "15  2198\n",
      "16  2220\n",
      "17  2242\n",
      "18  2242\n",
      "19  2242\n",
      "20  2265\n",
      "21  2310\n",
      "22  2356\n",
      "23  2403\n",
      "24  2451\n",
      "25  2500\n",
      "26  2575\n",
      "27  2653\n",
      "28  2706\n",
      "29  2706\n",
      "30  2733\n",
      "31  2760\n",
      "32  2760\n",
      "33  2788\n",
      "34  2788\n",
      "35  2871\n",
      "36  2958\n",
      "37  2987\n",
      "38  2987\n",
      "39  3017\n",
      "40  3047\n"
     ]
    },
    {
     "data": {
      "text/plain": [
       "'def list_to_dictionnary(liste1, liste2): \\n    dct = {} \\n    for item1 in liste1:\\n        for item2 in liste2:\\n            dct.update({item1: item2})\\n    return dct\\n\\nprint(list_to_dictionnary(X, y))'"
      ]
     },
     "execution_count": 169,
     "metadata": {},
     "output_type": "execute_result"
    }
   ],
   "source": [
    "X = revenus_bruts_moyens_patrick.index\n",
    "print(\"Les années :\\n\\n\", X)\n",
    "y = pd.DataFrame(revenus_bruts_moyens_patrick.values)\n",
    "print(y)\n",
    "\n",
    "'''def list_to_dictionnary(liste1, liste2): \n",
    "    dct = {} \n",
    "    for item1 in liste1:\n",
    "        for item2 in liste2:\n",
    "            dct.update({item1: item2})\n",
    "    return dct\n",
    "\n",
    "print(list_to_dictionnary(X, y))'''\n",
    "# slope, intercept, r_value, p_value, std_err = scipy.stats.linregress(X,y)\n",
    "\n",
    "#calcul du R²"
   ]
  },
  {
   "cell_type": "markdown",
   "metadata": {},
   "source": [
    "### 7) Graphe dynamique\n",
    "    \n",
    "Patrick aimerait avoir un aperçu dynamique de ses augmentations cours du temps. \n",
    "\n",
    "Créez un graphe dynamique qui affiche chacune des moyennes de salaires bruts au fur et à mesure du temps. \n",
    "\n",
    "Le titre du graphe comportera l'année en cours, et l'augmentation par rapport à l'an passé en pourcentage."
   ]
  },
  {
   "cell_type": "code",
   "execution_count": null,
   "metadata": {},
   "outputs": [],
   "source": []
  },
  {
   "cell_type": "markdown",
   "metadata": {},
   "source": [
    "### 8) Optimisation\n",
    "\n",
    "\n",
    "#### Contexte:\n",
    "\n",
    "Vous êtes le gestionnaire du budget d'une caisse de retraite complémentaire, comprenant quatre anciens actifs; Catherine, Daniel, Marie et Patrick. Vous décidez d'établir un régime de retraite à points (chaque euro cotisé donne droit à un point).\n",
    "\n",
    "Mais le budget accordé à la caisse de retraite baisse chaque année, alors que chaque personne doit toujours toucher le même nombre de points! \n",
    "\n",
    "On vous impose donc de baisser la valeur du point d'une proportion constante $\\beta$ chaque année pour répartir l'argent de manière équilibrée entre les différentes personnes.\n",
    "\n",
    "#### Formalisation:\n",
    "\n",
    "Dans t années (t= 0 pour 2019, t=1 pour 2020, ..., t=5 pour 2024), la valeur du point P(t) suivra la loi suivante : \n",
    "\n",
    "$P(t) = P_{0}*(1-\\beta)^{t}$\n",
    "\n",
    "avec:\n",
    "\n",
    "- $P_{0}$ la valeur du point pour l'année 2019\n",
    "- $\\beta$ la proportion de baisse de valeur du point, constante sur les cinq années\n",
    "\n",
    "\n",
    "\n",
    "\n",
    "\n",
    "Le budget alloué à la personne i suit la formule suivante:\n",
    "\n",
    "$B_{i}(t) = P(t)*r_{i}$\n",
    "\n",
    "avec:\n",
    "\n",
    "- $P_{t}$ la valeur du point pour l'année t\n",
    "- $r_{i}$ le nombre de points moyen cotisés par la personne i\n",
    "\n",
    "\n",
    "\n",
    "\n",
    "Le budget total est réparti entre les différentes personnes:\n",
    "\n",
    "$B(t) = \\sum_{i=1}^{4} B_{i}(t)$\n",
    "\n",
    "avec:\n",
    "\n",
    "- $B_{i}(t)$ Le budget alloué à la personne i à l'année t\n",
    "\n",
    "#### Alors on vous demande de trouver $P_{0}^{opt}$ la valeur du point optimale pour l'année 2019, et $\\beta^{opt}$ la proportion de baisse de valeur du point optimale de telle sorte que toutes les personnes recoivent leur nombre de points sur les cinq prochaines années  (de 2020 à 2024) tout en respectant le budget prévu $\\hat{B}$.\n",
    "\n",
    "Autrement dit, on vous demande de trouver $P_{0}^{opt}$ et $\\beta^{opt}$ tels que:\n",
    "\n",
    "$P_{0}^{opt}, \\beta^{opt} = argmin_{(P_{0}, \\beta)} \\sum_{t=1}^{5}| B(t)-\\hat{B}(t)|$\n",
    "\n",
    "Le tableau des budgets prévus $\\hat{B}(t)$ pour les cinq prochaines années est donné par le tableau budget ci-dessous.\n",
    "\n",
    "Pour simplifier l'exercice, on a supposé que l'on pouvait légèrement dépasser le budget chaque année (autrement dit, on veut juste approcher trouver une valeur de B proche de $\\hat{B}$, sans forcément que B soit strictement inférieur à $\\hat{B}$ tous les ans).\n",
    "\n",
    "#### Étapes de résolution proposées:\n",
    "- Calculez le nombre de points moyens $r_{i}$ gagnés par chaque personne grâce aux variables revenus_bruts et cotisation. $r_{i}$, c'est donc la moyenne des revenus bruts qui ont été côtisés chaque mois pendant 40 ans par la personne i.\n",
    "- Définissez une fonction P qui prend en entrée $P_{0}$, $\\beta$ et t, et qui renvoie la valeur de $P(t)$\n",
    "- Créez une fonction B qui prend en entrée i, $P_{0}$, $\\beta$ et t vous renvoie $B(t)$ grâce à P et $r_{i}$. $B(t)$, c'est juste la somme du tableau des budgets individuels $B_{i}(t)$\n",
    "- Grâce à B et $\\hat{B}$, définissez la fonction de coût en fonction de $P_{0}$ et $\\beta$\n",
    "- Minimisez la fonction de coût pour trouver $P_{0}$ et $\\beta$ avec scipy. On pourra essayer $P_{0}^{ini} = 0.7$ et $\\beta^{ini} = 0.02$\n",
    "- Commentez les valeurs de $P_{0}^{opt}$ et $\\beta^{opt}$, et tracez le graphe avec B et $\\hat{B}$ en fonction de t. La solution vous paraît-elle réaliste?\n",
    "\n",
    "Vous pouvez vous servir de graphes/schémas pour mieux appréhender le problème. \n",
    "\n",
    "N'hésitez pas à laisser vos essais/débuts de résolution dans le notebook, même s'ils sont incomplets! :)"
   ]
  },
  {
   "cell_type": "code",
   "execution_count": null,
   "metadata": {},
   "outputs": [],
   "source": [
    "annee = [2020,2021,2022,2023,2024]\n",
    "budget = [4500, 4200, 3800, 3500, 3200]"
   ]
  },
  {
   "cell_type": "code",
   "execution_count": null,
   "metadata": {},
   "outputs": [],
   "source": []
  },
  {
   "cell_type": "code",
   "execution_count": null,
   "metadata": {},
   "outputs": [],
   "source": []
  },
  {
   "cell_type": "code",
   "execution_count": null,
   "metadata": {},
   "outputs": [],
   "source": []
  },
  {
   "cell_type": "code",
   "execution_count": null,
   "metadata": {},
   "outputs": [],
   "source": []
  },
  {
   "cell_type": "code",
   "execution_count": null,
   "metadata": {},
   "outputs": [],
   "source": []
  },
  {
   "cell_type": "code",
   "execution_count": null,
   "metadata": {},
   "outputs": [],
   "source": []
  },
  {
   "cell_type": "code",
   "execution_count": null,
   "metadata": {},
   "outputs": [],
   "source": []
  }
 ],
 "metadata": {
  "kernelspec": {
   "display_name": "Python 3",
   "language": "python",
   "name": "python3"
  },
  "language_info": {
   "codemirror_mode": {
    "name": "ipython",
    "version": 3
   },
   "file_extension": ".py",
   "mimetype": "text/x-python",
   "name": "python",
   "nbconvert_exporter": "python",
   "pygments_lexer": "ipython3",
   "version": "3.7.6"
  }
 },
 "nbformat": 4,
 "nbformat_minor": 2
}
